{
 "cells": [
  {
   "cell_type": "code",
   "execution_count": 1,
   "metadata": {
    "collapsed": false
   },
   "outputs": [
    {
     "name": "stdout",
     "output_type": "stream",
     "text": [
      "Configuring Mocha...\n",
      " * CUDA       disabled by default\n",
      " * Native Ext disabled by default\n",
      "Mocha configured, continue loading module...\n"
     ]
    },
    {
     "name": "stderr",
     "output_type": "stream",
     "text": [
      "WARNING: Method definition warn(Any...) in module Base at util.jl:350 overwritten in module Logging at /Users/vl238/.julia/v0.5/Logging/src/Logging.jl:115.\n",
      "WARNING: Method definition info(Any...) in module Base at util.jl:320 overwritten in module Logging at /Users/vl238/.julia/v0.5/Logging/src/Logging.jl:115.\n"
     ]
    },
    {
     "name": "stdout",
     "output_type": "stream",
     "text": [
      "DefaultBackend = Mocha.CPUBackend\n"
     ]
    },
    {
     "data": {
      "text/plain": [
       "WaveletScattering"
      ]
     },
     "execution_count": 1,
     "metadata": {},
     "output_type": "execute_result"
    }
   ],
   "source": [
    "using Mocha\n",
    "using PyPlot\n",
    "using WaveletScattering\n",
    "ws = WaveletScattering"
   ]
  },
  {
   "cell_type": "code",
   "execution_count": 19,
   "metadata": {
    "collapsed": false
   },
   "outputs": [
    {
     "name": "stdout",
     "output_type": "stream",
     "text": [
      "28-Feb 17:21:58:INFO:root:Constructing net network on Mocha.CPUBackend...\n",
      "28-Feb 17:21:58:INFO:root:Topological sorting 1 layers...\n",
      "28-Feb 17:21:58:INFO:root:Setup layers...\n",
      "28-Feb 17:21:58:INFO:root:Network constructed!\n",
      "  0.003765 seconds (1.20 k allocations: 144.203 KB)\n"
     ]
    }
   ],
   "source": [
    "spec = ws.Spec1D(log2_size = 13)\n",
    "bank = ws.Bank1D(spec, max_log2_stride = 0)\n",
    "\n",
    "data = randn(1<<13)\n",
    "\n",
    "backend = Mocha.CPUBackend()\n",
    "signal = ws.InputLayer(\n",
    "    data = data,\n",
    "    tops = [:signal],\n",
    "    symbols = [:time])\n",
    "\n",
    "\n",
    "layers = Mocha.Layer[signal]\n",
    "\n",
    "Mocha.init(backend)\n",
    "\n",
    "@time net = Mocha.Net(\"network\", backend, layers);"
   ]
  },
  {
   "cell_type": "code",
   "execution_count": 50,
   "metadata": {
    "collapsed": false
   },
   "outputs": [
    {
     "data": {
      "text/plain": [
       "Mocha.Solver{Mocha.SGD}(Mocha.SGD(),Dict{Symbol,Any}(Pair{Symbol,Any}(:regu_coef,0.0005),Pair{Symbol,Any}(:load_from,\"snapshots\"),Pair{Symbol,Any}(:lr_policy,Mocha.LRPolicy.Inv(0.01,0.0001,0.75)),Pair{Symbol,Any}(:mom_policy,Mocha.MomPolicy.Fixed(0.9)),Pair{Symbol,Any}(:max_iter,10000)),Mocha.CoffeeLounge(\"\",1,:merge,Dict{AbstractString,Dict{Int64,AbstractFloat}}(),Mocha.CoffeeBreak[],true,4619792432,4619792496))"
      ]
     },
     "execution_count": 50,
     "metadata": {},
     "output_type": "execute_result"
    }
   ],
   "source": [
    "exp_dir = \"snapshots\"\n",
    "solver_method = SGD()\n",
    "params = make_solver_parameters(solver_method, max_iter=10000, regu_coef=0.0005,\n",
    "    mom_policy=MomPolicy.Fixed(0.9),\n",
    "    lr_policy=LRPolicy.Inv(0.01, 0.0001, 0.75),\n",
    "    load_from=exp_dir)\n",
    "solver = Solver(solver_method, params)"
   ]
  },
  {
   "cell_type": "code",
   "execution_count": 51,
   "metadata": {
    "collapsed": false
   },
   "outputs": [
    {
     "name": "stdout",
     "output_type": "stream",
     "text": [
      "28-Feb 18:10:41:DEBUG:root:#DEBUG Checking network topology for back-propagation\n",
      "28-Feb 18:10:41:DEBUG:root:Init network network\n"
     ]
    },
    {
     "ename": "LoadError",
     "evalue": "Not implemented, should do forward computing",
     "output_type": "error",
     "traceback": [
      "Not implemented, should do forward computing",
      "",
      " in forward(::Mocha.CPUBackend, ::WaveletScattering.InputLayerState, ::Array{Mocha.Blob,1}) at /Users/vl238/.julia/v0.5/Mocha/src/layers.jl:120",
      " in forward(::Mocha.Net{Mocha.CPUBackend}, ::Float64) at /Users/vl238/.julia/v0.5/Mocha/src/net.jl:148",
      " in init_solve(::Mocha.Solver{Mocha.SGD}, ::Mocha.Net{Mocha.CPUBackend}) at /Users/vl238/.julia/v0.5/Mocha/src/solvers.jl:189",
      " in solve(::Mocha.Solver{Mocha.SGD}, ::Mocha.Net{Mocha.CPUBackend}) at /Users/vl238/.julia/v0.5/Mocha/src/solvers.jl:234"
     ]
    }
   ],
   "source": [
    "Mocha.solve(solver, net)"
   ]
  },
  {
   "cell_type": "code",
   "execution_count": null,
   "metadata": {
    "collapsed": true
   },
   "outputs": [],
   "source": []
  }
 ],
 "metadata": {
  "kernelspec": {
   "display_name": "Julia 0.5.1-pre",
   "language": "julia",
   "name": "julia-0.5"
  },
  "language_info": {
   "file_extension": ".jl",
   "mimetype": "application/julia",
   "name": "julia",
   "version": "0.5.1"
  }
 },
 "nbformat": 4,
 "nbformat_minor": 2
}
