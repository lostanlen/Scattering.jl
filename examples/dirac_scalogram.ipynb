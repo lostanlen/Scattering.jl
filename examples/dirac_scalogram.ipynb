{
 "cells": [
  {
   "cell_type": "code",
   "execution_count": 1,
   "metadata": {
    "collapsed": false
   },
   "outputs": [
    {
     "name": "stdout",
     "output_type": "stream",
     "text": [
      "Configuring Mocha...\n",
      " * CUDA       disabled by default\n",
      " * Native Ext disabled by default\n",
      "Mocha configured, continue loading module...\n"
     ]
    },
    {
     "name": "stderr",
     "output_type": "stream",
     "text": [
      "WARNING: Method definition warn(Any...) in module Base at util.jl:350 overwritten in module Logging at /Users/vl238/.julia/v0.5/Logging/src/Logging.jl:115.\n",
      "WARNING: Method definition info(Any...) in module Base at util.jl:320 overwritten in module Logging at /Users/vl238/.julia/v0.5/Logging/src/Logging.jl:115.\n"
     ]
    },
    {
     "name": "stdout",
     "output_type": "stream",
     "text": [
      "DefaultBackend = Mocha.CPUBackend\n"
     ]
    },
    {
     "data": {
      "text/plain": [
       "WaveletScattering"
      ]
     },
     "execution_count": 1,
     "metadata": {},
     "output_type": "execute_result"
    }
   ],
   "source": [
    "using Mocha\n",
    "using PyPlot\n",
    "using WaveletScattering\n",
    "ws = WaveletScattering"
   ]
  },
  {
   "cell_type": "code",
   "execution_count": 107,
   "metadata": {
    "collapsed": false
   },
   "outputs": [
    {
     "name": "stdout",
     "output_type": "stream",
     "text": [
      "28-Feb 15:26:15:INFO:root:Constructing net network on Mocha.CPUBackend...\n",
      "28-Feb 15:26:15:INFO:root:Topological sorting 5 layers...\n",
      "28-Feb 15:26:15:INFO:root:Setup layers...\n",
      "28-Feb 15:26:16:INFO:root:Network constructed!\n",
      "  0.649255 seconds (3.51 M allocations: 102.404 MB, 18.97% gc time)\n"
     ]
    }
   ],
   "source": [
    "J = 13\n",
    "Q = 12\n",
    "\n",
    "data = zeros(Float32, 2^J, 1)\n",
    "data[1] = 1.0f0\n",
    "spec = ws.Spec1D(log2_size=J, n_filters_per_octave=2*Q, max_qualityfactor=Q)\n",
    "bank = ws.Bank1D(spec, max_log2_stride=0)\n",
    "\n",
    "backend = Mocha.CPUBackend()\n",
    "signal = ws.InputLayer(\n",
    "    data = data,\n",
    "    tops = [:signal],\n",
    "    symbols = [:time, :chunk])\n",
    "\n",
    "fourier = ws.FourierLayer(\n",
    "    bottoms = [:signal],\n",
    "    pathkeys = [ws.PathKey(:time)],\n",
    "    tops = [:fourier])\n",
    "\n",
    "wavelets = ws.WaveletLayer(\n",
    "    bank = bank,\n",
    "    bottoms = [:fourier],\n",
    "    tops = [:wavelets])\n",
    "\n",
    "invfourier = ws.InvFourierLayer(\n",
    "    bottoms = [:wavelets],\n",
    "    pathkeys = [ws.PathKey(:time)],\n",
    "    tops = [:invfourier])\n",
    "\n",
    "modulus = ws.PointwiseLayer(\n",
    "    bottoms = [:invfourier],\n",
    "    tops = [:modulus],\n",
    "    ρ = ws.Modulus())\n",
    "\n",
    "layers = Mocha.Layer[\n",
    "    signal,\n",
    "    fourier,\n",
    "    wavelets,\n",
    "    invfourier,\n",
    "    modulus]\n",
    "\n",
    "Mocha.init(backend)\n",
    "@time net = Mocha.Net(\"network\", backend, layers);"
   ]
  },
  {
   "cell_type": "code",
   "execution_count": 108,
   "metadata": {
    "collapsed": false
   },
   "outputs": [
    {
     "data": {
      "image/png": "[encoded data removed]",
      "text/plain": [
       "PyPlot.Figure(PyObject <matplotlib.figure.Figure object at 0x327b14c10>)"
      ]
     },
     "metadata": {},
     "output_type": "display_data"
    },
    {
     "data": {
      "text/plain": [
       "PyObject <matplotlib.image.AxesImage object at 0x32a060b10>"
      ]
     },
     "execution_count": 108,
     "metadata": {},
     "output_type": "execute_result"
    }
   ],
   "source": [
    "paths = [ ws.Path(ws.PathKey(:j,:time) => j) for j in 0:6]\n",
    "octaves = [ net.states[end].blobs[1].nodes[path].data for path in paths]\n",
    "\n",
    "U1 = cat(4, octaves...)\n",
    "U1 = reshape(U1, size(U1, 1), size(U1, 3) * size(U1, 4))\n",
    "\n",
    "X = -fftshift(U1, 1).'\n",
    "\n",
    "imshow(X[:, :], aspect=\"auto\", cmap=ColorMap(\"magma\"))"
   ]
  },
  {
   "cell_type": "code",
   "execution_count": 111,
   "metadata": {
    "collapsed": false
   },
   "outputs": [
    {
     "data": {
      "text/plain": [
       "1.0f0"
      ]
     },
     "execution_count": 111,
     "metadata": {},
     "output_type": "execute_result"
    }
   ],
   "source": [
    "sum(abs2(data))"
   ]
  },
  {
   "cell_type": "code",
   "execution_count": 112,
   "metadata": {
    "collapsed": false
   },
   "outputs": [
    {
     "data": {
      "text/plain": [
       "136.93504f0"
      ]
     },
     "execution_count": 112,
     "metadata": {},
     "output_type": "execute_result"
    }
   ],
   "source": [
    "sum(abs2(X))"
   ]
  },
  {
   "cell_type": "code",
   "execution_count": null,
   "metadata": {
    "collapsed": true
   },
   "outputs": [],
   "source": []
  }
 ],
 "metadata": {
  "kernelspec": {
   "display_name": "Julia 0.5.1-pre",
   "language": "julia",
   "name": "julia-0.5"
  },
  "language_info": {
   "file_extension": ".jl",
   "mimetype": "application/julia",
   "name": "julia",
   "version": "0.5.1"
  }
 },
 "nbformat": 4,
 "nbformat_minor": 2
}
