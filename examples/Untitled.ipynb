{
 "cells": [
  {
   "cell_type": "code",
   "execution_count": 1,
   "metadata": {
    "collapsed": false
   },
   "outputs": [
    {
     "name": "stdout",
     "output_type": "stream",
     "text": [
      "Configuring Mocha...\n",
      " * CUDA       disabled by default\n",
      " * Native Ext disabled by default\n",
      "Mocha configured, continue loading module...\n"
     ]
    },
    {
     "name": "stderr",
     "output_type": "stream",
     "text": [
      "WARNING: Method definition warn(Any...) in module Base at util.jl:350 overwritten in module Logging at /Users/vl238/.julia/v0.5/Logging/src/Logging.jl:115.\n",
      "WARNING: Method definition info(Any...) in module Base at util.jl:320 overwritten in module Logging at /Users/vl238/.julia/v0.5/Logging/src/Logging.jl:115.\n"
     ]
    },
    {
     "name": "stdout",
     "output_type": "stream",
     "text": [
      "DefaultBackend = Mocha.CPUBackend\n"
     ]
    },
    {
     "data": {
      "text/plain": [
       "WaveletScattering"
      ]
     },
     "execution_count": 1,
     "metadata": {},
     "output_type": "execute_result"
    }
   ],
   "source": [
    "using Mocha\n",
    "using PyPlot\n",
    "using WaveletScattering\n",
    "ws = WaveletScattering"
   ]
  },
  {
   "cell_type": "code",
   "execution_count": 19,
   "metadata": {
    "collapsed": false
   },
   "outputs": [
    {
     "name": "stdout",
     "output_type": "stream",
     "text": [
      "28-Feb 17:21:58:INFO:root:Constructing net network on Mocha.CPUBackend...\n",
      "28-Feb 17:21:58:INFO:root:Topological sorting 1 layers...\n",
      "28-Feb 17:21:58:INFO:root:Setup layers...\n",
      "28-Feb 17:21:58:INFO:root:Network constructed!\n",
      "  0.003765 seconds (1.20 k allocations: 144.203 KB)\n"
     ]
    }
   ],
   "source": [
    "spec = ws.Spec1D(log2_size = 13)\n",
    "bank = ws.Bank1D(spec, max_log2_stride = 0)\n",
    "\n",
    "data = randn(1<<13)\n",
    "\n",
    "backend = Mocha.CPUBackend()\n",
    "signal = ws.InputLayer(\n",
    "    data = data,\n",
    "    tops = [:signal],\n",
    "    symbols = [:time])\n",
    "\n",
    "\n",
    "layers = Mocha.Layer[signal]\n",
    "\n",
    "Mocha.init(backend)\n",
    "\n",
    "@time net = Mocha.Net(\"network\", backend, layers);"
   ]
  },
  {
   "cell_type": "code",
   "execution_count": 64,
   "metadata": {
    "collapsed": false
   },
   "outputs": [
    {
     "name": "stderr",
     "output_type": "stream",
     "text": [
      "WARNING: Method definition Net(Array{#T<:Any, #N<:Any}) in module Main at In[61]:2 overwritten at In[64]:2.\n"
     ]
    }
   ],
   "source": [
    "function (net::Mocha.Net){T,N}(data::Array{T,N})\n",
    "    net.states[1].blobs[1].nodes[ws.Path()].data[:] = data\n",
    "    for idlayer in 2:length(net.states)\n",
    "        forward(backend, net.states[idlayer], net.states[1].blobs[idlayer-1])\n",
    "    end\n",
    "end"
   ]
  },
  {
   "cell_type": "code",
   "execution_count": 69,
   "metadata": {
    "collapsed": false
   },
   "outputs": [],
   "source": [
    "net(randn(1<<13))"
   ]
  },
  {
   "cell_type": "code",
   "execution_count": 71,
   "metadata": {
    "collapsed": false
   },
   "outputs": [
    {
     "ename": "LoadError",
     "evalue": "type Net has no field data",
     "output_type": "error",
     "traceback": [
      "type Net has no field data",
      ""
     ]
    }
   ],
   "source": [
    "net.data"
   ]
  },
  {
   "cell_type": "code",
   "execution_count": null,
   "metadata": {
    "collapsed": true
   },
   "outputs": [],
   "source": []
  }
 ],
 "metadata": {
  "kernelspec": {
   "display_name": "Julia 0.5.1-pre",
   "language": "julia",
   "name": "julia-0.5"
  },
  "language_info": {
   "file_extension": ".jl",
   "mimetype": "application/julia",
   "name": "julia",
   "version": "0.5.1"
  }
 },
 "nbformat": 4,
 "nbformat_minor": 2
}
